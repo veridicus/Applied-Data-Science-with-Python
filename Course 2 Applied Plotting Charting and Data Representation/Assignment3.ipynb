{
 "cells": [
  {
   "cell_type": "markdown",
   "metadata": {},
   "source": [
    "# Assignment 3 - Building a Custom Visualization\n",
    "\n",
    "---\n",
    "\n",
    "In this assignment you must choose one of the options presented below and submit a visual as well as your source code for peer grading. The details of how you solve the assignment are up to you, although your assignment must use matplotlib so that your peers can evaluate your work. The options differ in challenge level, but there are no grades associated with the challenge level you chose. However, your peers will be asked to ensure you at least met a minimum quality for a given technique in order to pass. Implement the technique fully (or exceed it!) and you should be able to earn full grades for the assignment.\n",
    "\n",
    "\n",
    "&nbsp;&nbsp;&nbsp;&nbsp;&nbsp;&nbsp;Ferreira, N., Fisher, D., & Konig, A. C. (2014, April). [Sample-oriented task-driven visualizations: allowing users to make better, more confident decisions.](https://www.microsoft.com/en-us/research/wp-content/uploads/2016/02/Ferreira_Fisher_Sample_Oriented_Tasks.pdf) \n",
    "&nbsp;&nbsp;&nbsp;&nbsp;&nbsp;&nbsp;In Proceedings of the SIGCHI Conference on Human Factors in Computing Systems (pp. 571-580). ACM. ([video](https://www.youtube.com/watch?v=BI7GAs-va-Q))\n",
    "\n",
    "\n",
    "In this [paper](https://www.microsoft.com/en-us/research/wp-content/uploads/2016/02/Ferreira_Fisher_Sample_Oriented_Tasks.pdf) the authors describe the challenges users face when trying to make judgements about probabilistic data generated through samples. As an example, they look at a bar chart of four years of data (replicated below in Figure 1). Each year has a y-axis value, which is derived from a sample of a larger dataset. For instance, the first value might be the number votes in a given district or riding for 1992, with the average being around 33,000. On top of this is plotted the 95% confidence interval for the mean (see the boxplot lectures for more information, and the yerr parameter of barcharts).\n",
    "\n",
    "<br>\n",
    "<img src=\"readonly/Assignment3Fig1.png\" alt=\"Figure 1\" style=\"width: 400px;\"/>\n",
    "<h4 style=\"text-align: center;\" markdown=\"1\">  &nbsp;&nbsp;&nbsp;&nbsp;&nbsp;&nbsp;&nbsp;&nbsp;Figure 1 from (Ferreira et al, 2014).</h4>\n",
    "\n",
    "<br>\n",
    "\n",
    "A challenge that users face is that, for a given y-axis value (e.g. 42,000), it is difficult to know which x-axis values are most likely to be representative, because the confidence levels overlap and their distributions are different (the lengths of the confidence interval bars are unequal). One of the solutions the authors propose for this problem (Figure 2c) is to allow users to indicate the y-axis value of interest (e.g. 42,000) and then draw a horizontal line and color bars based on this value. So bars might be colored red if they are definitely above this value (given the confidence interval), blue if they are definitely below this value, or white if they contain this value.\n",
    "\n",
    "\n",
    "<br>\n",
    "<img src=\"readonly/Assignment3Fig2c.png\" alt=\"Figure 1\" style=\"width: 400px;\"/>\n",
    "<h4 style=\"text-align: center;\" markdown=\"1\">  Figure 2c from (Ferreira et al. 2014). Note that the colorbar legend at the bottom as well as the arrows are not required in the assignment descriptions below.</h4>\n",
    "\n",
    "<br>\n",
    "<br>\n",
    "\n",
    "**Easiest option:** Implement the bar coloring as described above - a color scale with only three colors, (e.g. blue, white, and red). Assume the user provides the y axis value of interest as a parameter or variable.\n",
    "\n",
    "\n",
    "**Harder option:** Implement the bar coloring as described in the paper, where the color of the bar is actually based on the amount of data covered (e.g. a gradient ranging from dark blue for the distribution being certainly below this y-axis, to white if the value is certainly contained, to dark red if the value is certainly not contained as the distribution is above the axis).\n",
    "\n",
    "**Even Harder option:** Add interactivity to the above, which allows the user to click on the y axis to set the value of interest. The bar colors should change with respect to what value the user has selected.\n",
    "\n",
    "**Hardest option:** Allow the user to interactively set a range of y values they are interested in, and recolor based on this (e.g. a y-axis band, see the paper for more details).\n",
    "\n",
    "---\n",
    "\n",
    "*Note: The data given for this assignment is not the same as the data used in the article and as a result the visualizations may look a little different.*"
   ]
  },
  {
   "cell_type": "code",
   "execution_count": 144,
   "metadata": {
    "collapsed": false,
    "scrolled": true
   },
   "outputs": [
    {
     "name": "stdout",
     "output_type": "stream",
     "text": [
      "[(26801.169457530348, 39823.045493558406), (38668.604696695809, 45055.114385450986), (34937.975349796907, 44048.634533000863), (45478.989678372396, 50008.112260161768)]\n",
      "<matplotlib.colors.LinearSegmentedColormap object at 0x7f2f4a42c860>\n"
     ]
    },
    {
     "data": {
      "text/plain": [
       "<matplotlib.figure.Figure at 0x7f2f54a099b0>"
      ]
     },
     "metadata": {},
     "output_type": "display_data"
    },
    {
     "data": {
      "image/png": "[encoded data removed]",
      "text/plain": [
       "<matplotlib.figure.Figure at 0x7f2f54924518>"
      ]
     },
     "metadata": {},
     "output_type": "display_data"
    }
   ],
   "source": [
    "# Use the following data for this assignment:\n",
    "import datetime\n",
    "\n",
    "import pandas as pd\n",
    "import numpy as np\n",
    "import numpy as np, scipy.stats as st\n",
    "import matplotlib as mpl\n",
    "import matplotlib.pyplot as plt\n",
    "import matplotlib.dates as mdates\n",
    "from matplotlib.ticker import MaxNLocator\n",
    "import matplotlib.colors as mcolors\n",
    "\n",
    "np.random.seed(12345)\n",
    "\n",
    "df = pd.DataFrame([np.random.normal(32000,200000,3650), \n",
    "                   np.random.normal(43000,100000,3650), \n",
    "                   np.random.normal(43500,140000,3650), \n",
    "                   np.random.normal(48000,70000,3650)], \n",
    "                  index=[1992,1993,1994,1995])\n",
    "#print(df.loc[1992])\n",
    "\n",
    "#Calculate 95% confidence interval\n",
    "interval = [0,0,0,0]\n",
    "interval[0] = st.t.interval(0.95, len(df.loc[1992])-1, loc=np.mean(df.loc[1992]), scale=st.sem(df.loc[1992]))\n",
    "interval[1] = st.t.interval(0.95, len(df.loc[1993])-1, loc=np.mean(df.loc[1993]), scale=st.sem(df.loc[1993]))\n",
    "interval[2] = st.t.interval(0.95, len(df.loc[1994])-1, loc=np.mean(df.loc[1994]), scale=st.sem(df.loc[1994]))\n",
    "interval[3] = st.t.interval(0.95, len(df.loc[1995])-1, loc=np.mean(df.loc[1995]), scale=st.sem(df.loc[1995]))\n",
    "print(interval)\n",
    "#Calculate means\n",
    "mean1,mean2,mean3,mean4 = np.mean(df.loc[1992]),np.mean(df.loc[1993]),np.mean(df.loc[1994]),np.mean(df.loc[1995])\n",
    "\n",
    "\n",
    "#User sets y value threshold\n",
    "y = 59000\n",
    "\n",
    "\n",
    "\n",
    "#Create figure\n",
    "plt.figure()\n",
    "\n",
    "xvals = np.arange(1992,1996)\n",
    "#xvals = np.arange('1992','1996', dtype='datetime64[Y]')\n",
    "yvals = [mean1,mean2,mean3,mean4]\n",
    "#print(xvals)\n",
    "\n",
    "#mask1 = [False,False,False,False]\n",
    "#mask2 = [False,False,False,False]\n",
    "#mask3 = [False,False,False,False]\n",
    "mask1,mask2,mask3=[],[],[]\n",
    "counter=0\n",
    "\n",
    "#Create masks\n",
    "for year in xvals:\n",
    "    mask1.append( y < st.t.interval(0.95, len(df.loc[year])-1, loc=np.mean(df.loc[year]), scale=st.sem(df.loc[year]))[0])\n",
    "    mask2.append( (y >= st.t.interval(0.95, len(df.loc[year])-1, loc=np.mean(df.loc[year]), scale=st.sem(df.loc[year]))[0]) & (y<= st.t.interval(0.95, len(df.loc[year])-1, loc=np.mean(df.loc[year]), scale=st.sem(df.loc[year]))[1]))\n",
    "    mask3.append( y > st.t.interval(0.95, len(df.loc[year])-1, loc=np.mean(df.loc[year]), scale=st.sem(df.loc[year]))[1])\n",
    "    #print(mask1[counter],mask2[counter],mask3[counter])\n",
    "    counter = counter+1\n",
    "\n",
    "#Color map\n",
    "cmap = mcolors.LinearSegmentedColormap.from_list(\"\", [\"blue\", \"lightgray\", \"darkred\"])\n",
    "print(cmap)\n",
    "    \n",
    "#Create bar graph\n",
    "fig, ax = plt.subplots()\n",
    "\n",
    "#for n in range(4):\n",
    "#    ax.bar(xvals[n],yvals[n],color=cmap((y-interval[n][0])/(interval[n][1]-interval[n][0])))\n",
    "#    print((y-interval[n][0])/(interval[n][1]-interval[n][0]))\n",
    "\n",
    "\n",
    "    \n",
    "\n",
    "for n in range(4):\n",
    "    if mask1[n] == True:\n",
    "        ax.bar(xvals[n],yvals[n],color=cmap((y/interval[n][0])-0.5))\n",
    "#        print(-(interval[n][0]-y)/((interval[n][0]-((interval[n][1]-interval[n][0]))))+0.5)\n",
    "#        print((y/interval[n][0])-0.5)\n",
    "    if mask2[n] == True:\n",
    "        ax.bar(xvals[n],yvals[n],color=cmap(0.5))\n",
    "        #print(0.5)\n",
    "    if mask3[n] == True:\n",
    "        ax.bar(xvals[n],yvals[n],color=cmap((y-interval[n][1])/y+0.5))\n",
    "        #print((y-interval[n][1])/y+0.5)\n",
    "    \n",
    "#x = [datetime.datetime(1992,1,11,10,0),\n",
    "    #datetime.datetime(1993,1,1,9,0),\n",
    "    #datetime.datetime(1994,1,1,9,0),\n",
    "    #datetime.datetime(1995,1,1,9,0)]\n",
    "#ax = plt.subplot(111)\n",
    "#ax.bar(x, yvals, width=10)\n",
    "#ax.xaxis_date()\n",
    "\n",
    "#ax.xaxis.set_tick_params(reset=True)\n",
    "ax.xaxis.set_major_locator(MaxNLocator(integer=True))\n",
    "#ax.xaxis.set_major_locator(mdates.YearLocator(1))\n",
    "#ax.xaxis.set_major_formatter(mdates.DateFormatter('%Y'))\n",
    "\n",
    "#datemin = np.datetime64(xvals[0], 'Y')\n",
    "#datemax = np.datetime64(xvals[-1], 'Y')\n",
    "#ax.set_xlim(datemin, datemax)\n",
    "\n",
    "## Rotate date labels automatically\n",
    "##fig.autofmt_xdate()\n",
    "\n",
    "\n",
    "#Create box plot\n",
    "ax.boxplot(interval,whis='range',positions=xvals)\n",
    "\n",
    "#Create horizontal line at y\n",
    "ax.axhline(y, color=\"darkgray\",ls='--')\n",
    "ax.text(1995.6,y,\"y value =\"+str(y))\n",
    "\n",
    "plt.title(\"Vote results by year\")\n",
    "plt.xlabel(\"Year\")\n",
    "plt.ylabel(\"Votes\")\n",
    "plt.show()\n"
   ]
  },
  {
   "cell_type": "code",
   "execution_count": null,
   "metadata": {
    "collapsed": true
   },
   "outputs": [],
   "source": []
  },
  {
   "cell_type": "code",
   "execution_count": null,
   "metadata": {
    "collapsed": true
   },
   "outputs": [],
   "source": []
  }
 ],
 "metadata": {
  "kernelspec": {
   "display_name": "Python 3",
   "language": "python",
   "name": "python3"
  },
  "language_info": {
   "codemirror_mode": {
    "name": "ipython",
    "version": 3
   },
   "file_extension": ".py",
   "mimetype": "text/x-python",
   "name": "python",
   "nbconvert_exporter": "python",
   "pygments_lexer": "ipython3",
   "version": "3.6.2"
  }
 },
 "nbformat": 4,
 "nbformat_minor": 2
}
